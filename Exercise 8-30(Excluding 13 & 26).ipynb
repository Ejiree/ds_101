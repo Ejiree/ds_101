{
 "cells": [
  {
   "cell_type": "markdown",
   "metadata": {},
   "source": [
    "# Exercise 12: Distance between two points on earth"
   ]
  },
  {
   "cell_type": "code",
   "execution_count": 20,
   "metadata": {},
   "outputs": [
    {
     "name": "stdout",
     "output_type": "stream",
     "text": [
      "Enter the latitude and longitude of point A\n",
      "latitude t1 of A: 56.78\n",
      "longitude g1 of A: 15\n",
      "Enter the latitude and longitude of point B\n",
      "latitude t2 of B: 23.48\n",
      "longitude g2 of B: 30.5\n",
      "Distance between point A and B with latitude and longitude (t1,g1)and (t2,g2) respectively = 0.61km\n"
     ]
    }
   ],
   "source": [
    "import math\n",
    "print(\"Enter the latitude and longitude of point A\")\n",
    "t1=float(input(\"latitude t1 of A: \"))\n",
    "t_one=math.radians(t1)\n",
    "g1=float(input(\"longitude g1 of A: \"))\n",
    "g_one=math.radians(g1)\n",
    "print(\"Enter the latitude and longitude of point B\")\n",
    "t2=float(input(\"latitude t2 of B: \"))\n",
    "t_two=math.radians(t2)\n",
    "g2=float(input(\"longitude g2 of B: \"))\n",
    "g_two=math.radians(g2)\n",
    "distance=round((math.acos((math.sin(t_one)*math.sin(t_two))+(math.cos(t_one)*math.cos(t_two)*math.cos(g_one-g_two)))),2)\n",
    "print(\"Distance between point A and B with latitude and longitude (t1,g1)and (t2,g2) respectively = {}km\".format(distance))\n"
   ]
  },
  {
   "cell_type": "markdown",
   "metadata": {},
   "source": [
    "# Exercise 10: Arithmetic"
   ]
  },
  {
   "cell_type": "code",
   "execution_count": 19,
   "metadata": {},
   "outputs": [
    {
     "name": "stdout",
     "output_type": "stream",
     "text": [
      "Enter two integers: a & b\n",
      "a: 3\n",
      "b: 6\n",
      "sum of a & b = 9\n",
      "difference of b from a = -3\n",
      "productof a & b = 18\n",
      "remainder when a is divided by b = 3\n",
      "logarithm of a to the base of 10 = 0.4771\n",
      "a raised to the power of b = 729\n",
      "quotient of a when divided by b = 3\n"
     ]
    }
   ],
   "source": [
    "import math\n",
    "print(\"Enter two integers: a & b\")\n",
    "a=int(input(\"a: \"))\n",
    "b=int(input(\"b: \"))\n",
    "sum=a+b\n",
    "difference=a-b\n",
    "product=a*b\n",
    "remainder=a%b\n",
    "log=round(math.log10(a),4)\n",
    "power=a**b\n",
    "print(\"sum of a & b = {}\".format(sum))\n",
    "print(\"difference of b from a = {}\".format(difference))\n",
    "print(\"productof a & b = {}\".format(product))\n",
    "print(\"remainder when a is divided by b = {}\".format(remainder))\n",
    "print(\"logarithm of a to the base of 10 = {}\".format(log))\n",
    "print(\"a raised to the power of b = {}\".format(power))\n",
    "print(\"quotient of a when divided by b = {}\".format(a))"
   ]
  },
  {
   "cell_type": "markdown",
   "metadata": {},
   "source": [
    "# Exercise 14: HEIGHT UNITS"
   ]
  },
  {
   "cell_type": "code",
   "execution_count": 18,
   "metadata": {},
   "outputs": [
    {
     "name": "stdout",
     "output_type": "stream",
     "text": [
      "Enter your height in feet and inches\n",
      "feet: 5\n",
      "inches: 7\n",
      "Your Height in centimeters= 170.18cm\n"
     ]
    }
   ],
   "source": [
    "print(\"Enter your height in feet and inches\")\n",
    "height_feet=int(input(\"feet: \"))\n",
    "height_inches=float(input(\"inches: \"))\n",
    "height_cm=round((((height_feet*12)+(height_inches))*2.54),2)\n",
    "print(\"Your Height in centimeters= {}cm\".format(height_cm))"
   ]
  },
  {
   "cell_type": "markdown",
   "metadata": {},
   "source": [
    "# Exercise 8: Widgets and Gizmos"
   ]
  },
  {
   "cell_type": "code",
   "execution_count": 17,
   "metadata": {},
   "outputs": [
    {
     "name": "stdout",
     "output_type": "stream",
     "text": [
      "Enter the number of widgets and gizmos you want to purchase\n",
      "widget: 32\n",
      "gizmos: 44\n",
      "Total weight of order is 7.33kg\n"
     ]
    }
   ],
   "source": [
    "print(\"Enter the number of widgets and gizmos you want to purchase\")\n",
    "number_widgets=int(input(\"widget: \"))\n",
    "number_gizmos=int(input(\"gizmos: \"))\n",
    "weight_widgets=0.075*number_widgets\n",
    "weight_gizmos=0.112*number_gizmos\n",
    "total_weight=round((weight_widgets+weight_gizmos),2)\n",
    "print(\"Total weight of order is {}kg\".format(total_weight))"
   ]
  },
  {
   "cell_type": "markdown",
   "metadata": {},
   "source": [
    "# Exercise 9: Compound Interest"
   ]
  },
  {
   "cell_type": "code",
   "execution_count": 1,
   "metadata": {},
   "outputs": [
    {
     "name": "stdout",
     "output_type": "stream",
     "text": [
      "Enter the unit of the currency\n",
      "currency : N\n",
      "Enter the amount of money you deposited in your Savings account at the beginning of the year\n",
      "Amount Deposited: 1450\n",
      "Enter the number of years of investment\n",
      "Number of Years: 3\n",
      "Amount Earned after 3 years = N1631.05\n"
     ]
    }
   ],
   "source": [
    "#I tweaked this code to give you a result of the amount earned for any number of years ratther than just first three years\n",
    "print(\"Enter the unit of the currency\")\n",
    "currency=str(input(\"currency : \"))\n",
    "print(\"Enter the amount of money you deposited in your Savings account at the beginning of the year\")\n",
    "amount_deposit=float(input(\"Amount Deposited: \"))\n",
    "print(\"Enter the number of years of investment\")\n",
    "number_years=int(input(\"Number of Years: \"))\n",
    "amount_earned=round((amount_deposit*(1.04**number_years)),2)\n",
    "print(\"Amount Earned after {} years = {}{}\".format(number_years,currency,amount_earned))"
   ]
  },
  {
   "cell_type": "markdown",
   "metadata": {},
   "source": [
    "# Exercise 11: Fuel Efficiency"
   ]
  },
  {
   "cell_type": "code",
   "execution_count": 16,
   "metadata": {},
   "outputs": [
    {
     "name": "stdout",
     "output_type": "stream",
     "text": [
      "Enter the Fuel Efficiency for your vehicle in MPG\n",
      "Fuel Efficeincy expressed in MPG: 97\n",
      "Fuel Efficiency of your vehicle = 22815.85 litres/100km\n"
     ]
    }
   ],
   "source": [
    "print(\"Enter the Fuel Efficiency for your vehicle in MPG\")\n",
    "fuel_mpg=float(input(\"Fuel Efficeincy expressed in MPG: \"))\n",
    "fuel_litresper100km=round((235.215*fuel_mpg),2)\n",
    "print(\"Fuel Efficiency of your vehicle = {} litres/100km\".format(fuel_litresper100km))"
   ]
  },
  {
   "cell_type": "markdown",
   "metadata": {},
   "source": [
    "# Exercise 15:Distance Units"
   ]
  },
  {
   "cell_type": "code",
   "execution_count": 22,
   "metadata": {},
   "outputs": [
    {
     "name": "stdout",
     "output_type": "stream",
     "text": [
      "Enter in your measurement in feet\n",
      "measurement: 6\n",
      "Your measurement in inches = 72.0 in\n",
      "Your measurement in yards = 2.0 yards\n",
      "Your measurement in miles = 0.001134 miles\n"
     ]
    }
   ],
   "source": [
    "print(\"Enter in your measurement in feet\")\n",
    "measure_feet= float(input(\"measurement: \"))\n",
    "measure_inches= round(measure_feet*12,2)\n",
    "measure_yard= round(measure_feet*0.333333,2)\n",
    "measure_miles= round(measure_feet*0.000189,6)\n",
    "print(\"Your measurement in inches = {} in\".format(measure_inches))\n",
    "print(\"Your measurement in yards = {} yards\".format(measure_yard))\n",
    "print(\"Your measurement in miles = {} miles\".format(measure_miles))"
   ]
  },
  {
   "cell_type": "markdown",
   "metadata": {},
   "source": [
    "# Exercise 16: Area and Volume"
   ]
  },
  {
   "cell_type": "code",
   "execution_count": 5,
   "metadata": {},
   "outputs": [
    {
     "name": "stdout",
     "output_type": "stream",
     "text": [
      "Enter in the radius & the unit of measurement\n",
      "radius: 6\n",
      "unit: m\n",
      "area of a circle = 113.1sqm\n",
      "volume of a sphere = 904.78\n"
     ]
    }
   ],
   "source": [
    "print(\"Enter in the radius & the unit of measurement\")\n",
    "r=float(input(\"radius: \"))\n",
    "unit=input(\"unit: \")\n",
    "area=round(math.pi*(r**2),2)\n",
    "volume=round(math.pi*4/3*(r**3),2)\n",
    "print(\"area of a circle = {}sq{}\".format(area,unit))\n",
    "print(\"volume of a sphere = {}\".format(volume))"
   ]
  },
  {
   "cell_type": "markdown",
   "metadata": {},
   "source": [
    "# Exercise 17: Specific Heat Capacity"
   ]
  },
  {
   "cell_type": "code",
   "execution_count": 1,
   "metadata": {},
   "outputs": [
    {
     "name": "stdout",
     "output_type": "stream",
     "text": [
      "Enter the mass of water in grams\n",
      "mass: 10\n",
      "Enter initial temperature\n",
      "initial temperature : 25\n",
      "Enter final temperature : \n",
      "final temperature : 100\n",
      "temperature difference = 75.0\n",
      "energy needed to achieve the desired temperature change = 3139.5J\n",
      "Cost of heating the water by a temperature rise of 75.0 = 0.01cents\n"
     ]
    }
   ],
   "source": [
    "import math\n",
    "print(\"Enter the mass of water in grams\")\n",
    "mass=float(input(\"mass: \"))\n",
    "print(\"Enter initial temperature\")\n",
    "t1=float(input(\"initial temperature : \"))\n",
    "print(\"Enter final temperature : \")\n",
    "t2=float(input(\"final temperature : \"))\n",
    "temp=t2-t1\n",
    "print(\"temperature difference = {}\".format(temp))\n",
    "energy_joules=4.186*mass*temp\n",
    "#energy_joules2=round(energy_joules,2)\n",
    "print(\"energy needed to achieve the desired temperature change = {}J\".format(energy_joules))\n",
    "energy_kwh=(1/(3600000))*energy_joules\n",
    "energy_kwh\n",
    "energy_cost=round(8.9*energy_kwh,2)\n",
    "print(\"Cost of heating the water by a temperature rise of {} = {}cents\".format(temp,energy_cost))"
   ]
  },
  {
   "cell_type": "markdown",
   "metadata": {},
   "source": [
    "# Exercise 18: Volume of a Cylinder"
   ]
  },
  {
   "cell_type": "code",
   "execution_count": 2,
   "metadata": {},
   "outputs": [
    {
     "name": "stdout",
     "output_type": "stream",
     "text": [
      "Enter the radius and height of a cylinder in cm\n",
      "radius : 2.5\n",
      "height : 7.8\n",
      "volume of the cylinder = 153.2cm3\n"
     ]
    }
   ],
   "source": [
    "print(\"Enter the radius and height of a cylinder in cm\")\n",
    "r=float(input(\"radius : \"))\n",
    "h=float(input(\"height : \"))\n",
    "volume=round((math.pi*h*(r**2)),1)\n",
    "print(\"volume of the cylinder = {}cm3\".format(volume))"
   ]
  },
  {
   "cell_type": "markdown",
   "metadata": {},
   "source": [
    "# Exercise 19: Free fall"
   ]
  },
  {
   "cell_type": "code",
   "execution_count": 4,
   "metadata": {},
   "outputs": [
    {
     "name": "stdout",
     "output_type": "stream",
     "text": [
      "Enter the initial speed of the object, acceleratin and the distance of travel in metres\n",
      "initila speed : 0\n",
      "distance of travel(m) : 25\n",
      "acceleration : 9.8\n",
      "final speed of object on hittng the ground = 22.14m/s\n"
     ]
    }
   ],
   "source": [
    "import math\n",
    "print(\"Enter the initial speed of the object, acceleratin and the distance of travel in metres\")\n",
    "v1=float(input(\"initila speed : \"))\n",
    "d=float(input(\"distance of travel(m) : \"))\n",
    "a=float(input(\"acceleration : \"))\n",
    "v2=round((math.sqrt((v1**2)+(2*a*d))),2)\n",
    "print(\"final speed of object on hittng the ground = {}m/s\".format(v2))"
   ]
  },
  {
   "cell_type": "markdown",
   "metadata": {},
   "source": [
    "# Exercise 20: Ideal Gas Law (Code not working)"
   ]
  },
  {
   "cell_type": "code",
   "execution_count": 8,
   "metadata": {},
   "outputs": [
    {
     "ename": "SyntaxError",
     "evalue": "invalid syntax (<ipython-input-8-23f94d1caff6>, line 7)",
     "output_type": "error",
     "traceback": [
      "\u001b[1;36m  File \u001b[1;32m\"<ipython-input-8-23f94d1caff6>\"\u001b[1;36m, line \u001b[1;32m7\u001b[0m\n\u001b[1;33m    if  unit[0]='C':\u001b[0m\n\u001b[1;37m               ^\u001b[0m\n\u001b[1;31mSyntaxError\u001b[0m\u001b[1;31m:\u001b[0m invalid syntax\n"
     ]
    }
   ],
   "source": [
    "print(\"Enter the values of pressure, volume of the gas\")\n",
    "pressure=float(input(\"pressure(pascals): \"))\n",
    "volume=float(input(\"volume(liters): \"))\n",
    "print(\"Enter the temperature unit and value of the gas\")\n",
    "unit=input(\"temperature unit :\")\n",
    "temp1=float(input(\"temperature: \"))\n",
    "if  unit[0]='C':\n",
    "    temp2=temp1+273.15\n",
    "elseif:\n",
    "    unit[0]='F'\n",
    "    temp2=(5/9*(temp1-32))+273.15\n",
    "else:\n",
    "    temp2=0\n",
    "number_moles=round(((pressure*volume)/(temp2*8.314)),4)\n",
    "print(\"The amount of substance in moles = {}\".format(number_moles))\n",
    "\n"
   ]
  },
  {
   "cell_type": "markdown",
   "metadata": {},
   "source": [
    "# Exercise 20: Ideal Gas(Code not working)"
   ]
  },
  {
   "cell_type": "code",
   "execution_count": 16,
   "metadata": {},
   "outputs": [
    {
     "ename": "SyntaxError",
     "evalue": "invalid syntax (<ipython-input-16-78980957cc17>, line 7)",
     "output_type": "error",
     "traceback": [
      "\u001b[1;36m  File \u001b[1;32m\"<ipython-input-16-78980957cc17>\"\u001b[1;36m, line \u001b[1;32m7\u001b[0m\n\u001b[1;33m    if  unit=1:\u001b[0m\n\u001b[1;37m            ^\u001b[0m\n\u001b[1;31mSyntaxError\u001b[0m\u001b[1;31m:\u001b[0m invalid syntax\n"
     ]
    }
   ],
   "source": [
    "print(\"Enter the values of pressure, volume of the gas\")\n",
    "pressure=float(input(\"pressure(pascals): \"))\n",
    "volume=float(input(\"volume(liters): \"))\n",
    "print(\"Enter '1' if the temperature unit is in Centigrade and '2' if it is in Fahrenheit\")\n",
    "unit=int(input(\"temperature unit :\"))\n",
    "temp1=float(input(\"temperature: \"))\n",
    "if  unit=1:\n",
    "    temp2=temp1+273.15\n",
    "elseif:\n",
    "    unit=2\n",
    "    temp2=(5/9*(temp1-32))+273.15\n",
    "else:\n",
    "    temp2=0\n",
    "number_moles=round(((pressure*volume)/(temp2*8.314)),4)\n",
    "print(\"The amount of substance in moles = {}\".format(number_moles))"
   ]
  },
  {
   "cell_type": "markdown",
   "metadata": {},
   "source": [
    "# Exercise 20a: Ideal Gas Law(Code Working)"
   ]
  },
  {
   "cell_type": "code",
   "execution_count": 11,
   "metadata": {},
   "outputs": [
    {
     "name": "stdout",
     "output_type": "stream",
     "text": [
      "Enter the values of pressure, volume of the gas\n",
      "pressure(pascals): 20000000\n",
      "volume(liters): 12\n",
      "Enter a number between '0-1' if the temperature unit is in Centigrade and above'1' if it is in Fahrenheit\n",
      "temperature unit :1\n",
      "temperature: 20\n",
      "The amount of substance in moles = 98471.6745\n"
     ]
    }
   ],
   "source": [
    "# Same code below, but tested on a Centigrade temperature scale\n",
    "print(\"Enter the values of pressure, volume of the gas\")\n",
    "pressure=float(input(\"pressure(pascals): \"))\n",
    "volume=float(input(\"volume(liters): \"))\n",
    "print(\"Enter a number between '0-1' if the temperature unit is in Centigrade and above'1' if it is in Fahrenheit\")\n",
    "unit=int(input(\"temperature unit :\"))\n",
    "temp1=float(input(\"temperature: \"))\n",
    "if  unit<=1:\n",
    "    temp2=temp1+273.15\n",
    "else:\n",
    "    temp2=(5/9*(temp1-32))+273.15\n",
    "number_moles=round(((pressure*volume)/(temp2*8.314)),4)\n",
    "print(\"The amount of substance in moles = {}\".format(number_moles))"
   ]
  },
  {
   "cell_type": "markdown",
   "metadata": {},
   "source": [
    "# Exercise 20b: Ideal Gas (Working code)"
   ]
  },
  {
   "cell_type": "code",
   "execution_count": 12,
   "metadata": {},
   "outputs": [
    {
     "name": "stdout",
     "output_type": "stream",
     "text": [
      "Enter the values of pressure, volume of the gas\n",
      "pressure(pascals): 20000000\n",
      "volume(liters): 12\n",
      "Enter a number between '0-1' if the temperature unit is in Centigrade and above'1' if it is in Fahrenheit\n",
      "temperature unit :2\n",
      "temperature: 68\n",
      "The amount of substance in moles = 98471.6745\n"
     ]
    }
   ],
   "source": [
    "# Same code below, but tested on a Fahrenheit temperature scale\n",
    "print(\"Enter the values of pressure, volume of the gas\")\n",
    "pressure=float(input(\"pressure(pascals): \"))\n",
    "volume=float(input(\"volume(liters): \"))\n",
    "print(\"Enter a number between '0-1' if the temperature unit is in Centigrade and above'1' if it is in Fahrenheit\")\n",
    "unit=int(input(\"temperature unit :\"))\n",
    "temp1=float(input(\"temperature: \"))\n",
    "if  unit<=1:\n",
    "    temp2=temp1+273.15\n",
    "else:\n",
    "    temp2=(5/9*(temp1-32))+273.15\n",
    "number_moles=round(((pressure*volume)/(temp2*8.314)),4)\n",
    "print(\"The amount of substance in moles = {}\".format(number_moles))"
   ]
  },
  {
   "cell_type": "markdown",
   "metadata": {},
   "source": [
    "# Exercise 21: Area of a Triangle"
   ]
  },
  {
   "cell_type": "code",
   "execution_count": 3,
   "metadata": {},
   "outputs": [
    {
     "name": "stdout",
     "output_type": "stream",
     "text": [
      "Enter the measurement unit of the sides of the triangle\n",
      "unitcm\n",
      "Enter the height and base of the triangle\n",
      "base : 10\n",
      "height: 20\n",
      "area of the triangle = 100.0sqcm\n"
     ]
    }
   ],
   "source": [
    "print(\"Enter the measurement unit of the sides of the triangle\")\n",
    "unit=input(\"unit\")\n",
    "print(\"Enter the height and base of the triangle\")\n",
    "b=int(input(\"base : \"))\n",
    "h=int(input(\"height: \"))\n",
    "area=0.5*b*h\n",
    "print(\"area of the triangle = {}sq{}\".format(area,unit))"
   ]
  },
  {
   "cell_type": "markdown",
   "metadata": {},
   "source": [
    "# Exercise 22: Area of a Triangle"
   ]
  },
  {
   "cell_type": "code",
   "execution_count": 5,
   "metadata": {},
   "outputs": [
    {
     "name": "stdout",
     "output_type": "stream",
     "text": [
      "Enter the length of the three sides of the triangle\n",
      "s1 : 1\n",
      "s2 : 2\n",
      "s3 : 3\n",
      "area of the triangle = 18.97\n"
     ]
    }
   ],
   "source": [
    "import math\n",
    "print(\"Enter the length of the three sides of the triangle\") \n",
    "s1=int(input(\"s1 : \"))\n",
    "s2=int(input(\"s2 : \"))\n",
    "s3=int(input(\"s3 : \"))\n",
    "s=s1+s2+s3\n",
    "area=round((math.sqrt(s*(s-s1)*(s-s2)*(s-s3))),2)\n",
    "print(\"area of the triangle = {}\".format(area))"
   ]
  },
  {
   "cell_type": "markdown",
   "metadata": {},
   "source": [
    "# Exercise 23: Area of a regular polygon"
   ]
  },
  {
   "cell_type": "code",
   "execution_count": 8,
   "metadata": {},
   "outputs": [
    {
     "name": "stdout",
     "output_type": "stream",
     "text": [
      "Enter the number of sides of the regular polygon and the length of a side \n",
      "number of sides : 5\n",
      "length of a side : 4.5\n",
      "area of the polygon : 18.39\n"
     ]
    }
   ],
   "source": [
    "print(\"Enter the number of sides of the regular polygon and the length of a side \")\n",
    "n=int(input(\"number of sides : \"))\n",
    "s=float(input(\"length of a side : \"))\n",
    "area= round(((n*(s**2))/4*math.tan(math.pi/n)),2)\n",
    "print(\"area of the polygon : {}\".format(area))"
   ]
  },
  {
   "cell_type": "markdown",
   "metadata": {},
   "source": [
    "# Exercise 24: Units of Time"
   ]
  },
  {
   "cell_type": "code",
   "execution_count": 11,
   "metadata": {},
   "outputs": [
    {
     "name": "stdout",
     "output_type": "stream",
     "text": [
      "Enter duration in days, hours, minutes and seconds\n",
      "days : 7\n",
      "hours : 7\n",
      "minutes : 7\n",
      "seconds : 7\n",
      "Duration in seconds : 630427seconds\n"
     ]
    }
   ],
   "source": [
    "print(\"Enter duration in days, hours, minutes and seconds\")\n",
    "days=int(input(\"days : \"))\n",
    "hours=int(input(\"hours : \"))\n",
    "mins=int(input(\"minutes : \"))\n",
    "secs=int(input(\"seconds : \"))\n",
    "duration_sec= (60*((60*((days*24)+hours))+mins))+secs\n",
    "print(\"Duration in seconds : {}seconds\".format(duration_sec))"
   ]
  },
  {
   "cell_type": "markdown",
   "metadata": {},
   "source": [
    "# Exercise 25: Units of Time (Again)"
   ]
  },
  {
   "cell_type": "code",
   "execution_count": 7,
   "metadata": {},
   "outputs": [
    {
     "name": "stdout",
     "output_type": "stream",
     "text": [
      "Enter the given time duration in seconds\n",
      "duration (secs) : 630427\n",
      "The given time duration on conversion = 7:7:7:7\n"
     ]
    }
   ],
   "source": [
    "# I'm yet to find a way round getting the hours,mins,secs formatted so they occupy two digits\n",
    "\n",
    "print(\"Enter the given time duration in seconds\")\n",
    "duration_sec=int(input(\"duration (secs) : \"))\n",
    "min=duration_sec//60\n",
    "rem_secs=duration_sec%60\n",
    "hours=min//60\n",
    "rem_mins=min%60\n",
    "day=hours//24\n",
    "rem_hours=hours%24\n",
    "print(\"The given time duration on conversion = {}:{}:{}:{}\".format(day,rem_hours,rem_mins,rem_secs))"
   ]
  },
  {
   "cell_type": "markdown",
   "metadata": {},
   "source": [
    "# Exercise 27a: Body Mass Index"
   ]
  },
  {
   "cell_type": "code",
   "execution_count": 31,
   "metadata": {},
   "outputs": [
    {
     "name": "stdout",
     "output_type": "stream",
     "text": [
      "To enter the values of the body's weight and height\n",
      "Enter a number between '0-1' if the weight and height is in pounds and inches respectively & a number above '1' if it is in kilograms and metres respectively\n",
      ": 1\n",
      "weight: 121.254\n",
      "height: 67.32283\n",
      "Body Mass Index = 18.807309507129567\n"
     ]
    }
   ],
   "source": [
    "#same code as Ex. 27b, test factors are in pounds and inches\n",
    "print(\"To enter the values of the body's weight and height\")\n",
    "print(\"Enter a number between '0-1' if the weight and height is in pounds and inches respectively & a number above '1' if it is in kilograms and metres respectively\")\n",
    "unit=int(input(\": \"))\n",
    "weight=float(input(\"weight: \"))\n",
    "height=float(input(\"height: \"))\n",
    "if  unit<=1:\n",
    "    bmi=703*weight/(height**2)\n",
    "else:\n",
    "    bmi=weight/(height**2)\n",
    "print(\"Body Mass Index = {}\".format(bmi))"
   ]
  },
  {
   "cell_type": "markdown",
   "metadata": {},
   "source": [
    "# Exercise 27b: Body Mass Index"
   ]
  },
  {
   "cell_type": "code",
   "execution_count": 29,
   "metadata": {},
   "outputs": [
    {
     "name": "stdout",
     "output_type": "stream",
     "text": [
      "To enter the values of the body's weight and height\n",
      "Enter a number between '0-1' if the weight and height is in pounds and inches respectively & a number above '1' if it is in kilograms and metres respectively\n",
      ": 4\n",
      "weight: 55\n",
      "height: 1.71\n",
      "Body Mass Index = 18.80920625149619\n"
     ]
    }
   ],
   "source": [
    "#same code as above, test factors are in kg and m(quivalent of the units used above)\n",
    "print(\"To enter the values of the body's weight and height\")\n",
    "print(\"Enter a number between '0-1' if the weight and height is in pounds and inches respectively & a number above '1' if it is in kilograms and metres respectively\")\n",
    "unit=int(input(\": \"))\n",
    "weight=float(input(\"weight: \"))\n",
    "height=float(input(\"height: \"))\n",
    "if  unit<=1:\n",
    "    bmi=703*weight/(height**2)\n",
    "else:\n",
    "    bmi=weight/(height**2)\n",
    "print(\"Body Mass Index = {}\".format(bmi))"
   ]
  },
  {
   "cell_type": "markdown",
   "metadata": {},
   "source": [
    "# Exercise 28: Wind Chill Index"
   ]
  },
  {
   "cell_type": "code",
   "execution_count": 3,
   "metadata": {},
   "outputs": [
    {
     "name": "stdout",
     "output_type": "stream",
     "text": [
      "Enter in the values for the air temperature in degree celsius and wind speed in km/h and \n",
      "air temperature(C) : 9\n",
      "wind speed(km/h) : 10\n",
      "Wind Chill Index = 7.0\n"
     ]
    }
   ],
   "source": [
    "print(\"Enter in the values for the air temperature in degree celsius and wind speed in km/h and \")\n",
    "t=float(input(\"air temperature(C) : \"))\n",
    "v=float(input(\"wind speed(km/h) : \"))\n",
    "wci=round((13.12+(0.6215*t)-(11.37*(v**0.16))+(0.3965*t*(v**0.16))),0)\n",
    "print(\"Wind Chill Index = {}\".format(wci))"
   ]
  },
  {
   "cell_type": "markdown",
   "metadata": {},
   "source": [
    "# Exercise 29: Celsius to Fahrenheit & Kelvin"
   ]
  },
  {
   "cell_type": "code",
   "execution_count": 4,
   "metadata": {},
   "outputs": [
    {
     "name": "stdout",
     "output_type": "stream",
     "text": [
      "Enter the temperature in degrees celsius\n",
      "Temperature(C) : 0\n",
      "Equivalent Temperature in Fahrenheit : 32.0F\n",
      "Equivalent Temperature in Kelvin : 273.15K\n"
     ]
    }
   ],
   "source": [
    "print(\"Enter the temperature in degrees celsius\")\n",
    "temp_c=float(input(\"Temperature(C) : \"))\n",
    "temp_f=32+(9/5*(temp_c))\n",
    "temp_k=temp_c+273.15\n",
    "print(\"Equivalent Temperature in Fahrenheit : {}F\".format(temp_f))\n",
    "print(\"Equivalent Temperature in Kelvin : {}K\".format(temp_k))"
   ]
  },
  {
   "cell_type": "markdown",
   "metadata": {},
   "source": [
    "# Exercise 30: Units of Pressure"
   ]
  },
  {
   "cell_type": "code",
   "execution_count": 6,
   "metadata": {},
   "outputs": [
    {
     "name": "stdout",
     "output_type": "stream",
     "text": [
      "Enter in the pressure value in kilopascals\n",
      "pressure in kpa : 4650\n",
      "Equivalent pressure of 4650.0KPa = 674.4255psi\n",
      "Equivalent pressure of 4650.0KPa = 34877.9646mmHg\n",
      "Equivalent pressure of 4650.0KPa = 45.8919atm\n"
     ]
    }
   ],
   "source": [
    "print(\"Enter in the pressure value in kilopascals\")\n",
    "p_kpa=float(input(\"pressure in kpa : \"))\n",
    "p_psi=round((0.1450377377*p_kpa),4)\n",
    "p_mmhg=round((7.5006375542*p_kpa),4)\n",
    "p_atm=round((0.00986923*p_kpa),4)\n",
    "print(\"Equivalent pressure of {}KPa = {}psi\".format(p_kpa,p_psi))\n",
    "print(\"Equivalent pressure of {}KPa = {}mmHg\".format(p_kpa,p_mmhg))\n",
    "print(\"Equivalent pressure of {}KPa = {}atm\".format(p_kpa,p_atm))\n"
   ]
  },
  {
   "cell_type": "code",
   "execution_count": null,
   "metadata": {},
   "outputs": [],
   "source": []
  }
 ],
 "metadata": {
  "kernelspec": {
   "display_name": "Python 3",
   "language": "python",
   "name": "python3"
  },
  "language_info": {
   "codemirror_mode": {
    "name": "ipython",
    "version": 3
   },
   "file_extension": ".py",
   "mimetype": "text/x-python",
   "name": "python",
   "nbconvert_exporter": "python",
   "pygments_lexer": "ipython3",
   "version": "3.6.9"
  }
 },
 "nbformat": 4,
 "nbformat_minor": 2
}
