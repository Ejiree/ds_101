{
 "cells": [
  {
   "cell_type": "markdown",
   "metadata": {},
   "source": [
    "# Exercise 2:Hello"
   ]
  },
  {
   "cell_type": "code",
   "execution_count": 1,
   "metadata": {},
   "outputs": [
    {
     "name": "stdout",
     "output_type": "stream",
     "text": [
      "Enter Name\n",
      "Namekenneth\n",
      "Hello kenneth\n"
     ]
    }
   ],
   "source": [
    "print(\"Enter Name\")\n",
    "value=input(\"Name\")\n",
    "print(\"Hello {}\". format(value))"
   ]
  },
  {
   "cell_type": "markdown",
   "metadata": {},
   "source": [
    "# Exercise 3: Area of a room"
   ]
  },
  {
   "cell_type": "code",
   "execution_count": 2,
   "metadata": {},
   "outputs": [
    {
     "name": "stdout",
     "output_type": "stream",
     "text": [
      "Enter width and length of a room in meters\n",
      "Length56\n",
      "Width67\n",
      "Area of the Room= 3752.0sqm\n"
     ]
    }
   ],
   "source": [
    "print(\"Enter width and length of a room in meters\")\n",
    "length=float(input(\"Length\"))\n",
    "width=float(input(\"Width\"))\n",
    "print(\"Area of the Room= {}sqm\".format(length*width))\n"
   ]
  },
  {
   "cell_type": "markdown",
   "metadata": {},
   "source": [
    "# Area of a Field"
   ]
  },
  {
   "cell_type": "code",
   "execution_count": 3,
   "metadata": {},
   "outputs": [
    {
     "name": "stdout",
     "output_type": "stream",
     "text": [
      "Enter width and length of a Farmer's field in feet\n",
      "Length679.285\n",
      "Width490.867\n",
      "Area of the Farm field= 7.65acres\n"
     ]
    }
   ],
   "source": [
    "print(\"Enter width and length of a Farmer's field in feet\")\n",
    "value=float(input(\"Length\"))\n",
    "value2=float(input(\"Width\"))\n",
    "x=(value*value2/43560)\n",
    "x2=round(x,2)\n",
    "print(\"Area of the Farm field= {}acres\".format(x2))\n"
   ]
  },
  {
   "cell_type": "markdown",
   "metadata": {},
   "source": [
    "# Bottle Deposits"
   ]
  },
  {
   "cell_type": "code",
   "execution_count": 4,
   "metadata": {},
   "outputs": [
    {
     "name": "stdout",
     "output_type": "stream",
     "text": [
      "Enter volume of drink containers in liters and the number of containers\n",
      "volume0.758\n",
      "number of containers26\n",
      "Refund payable for returning 26 containers of volume0.758liters each= $2.6\n"
     ]
    }
   ],
   "source": [
    "print(\"Enter volume of drink containers in liters and the number of containers\")\n",
    "volume=float(input(\"volume\"))\n",
    "number=int(input(\"number of containers\"))\n",
    "if volume<=1.0:\n",
    "    refund=0.10\n",
    "else:\n",
    "    refund=0.25\n",
    "refund_due=round((refund*number),2)\n",
    "print(\"Refund payable for returning {} containers of volume{}liters each= ${}\".format(number,volume,refund_due))\n"
   ]
  },
  {
   "cell_type": "markdown",
   "metadata": {},
   "source": [
    "# Exam6: Tax and Tip"
   ]
  },
  {
   "cell_type": "code",
   "execution_count": 6,
   "metadata": {},
   "outputs": [
    {
     "name": "stdout",
     "output_type": "stream",
     "text": [
      "Enter cost of meal\n",
      "Cost of meal26.589\n",
      "tax on meal= $1.33\n",
      "tip= $4.79\n",
      "Grand Total= $32.71\n"
     ]
    }
   ],
   "source": [
    "print(\"Enter cost of meal\")\n",
    "meal_cost=float(input(\"Cost of meal\"))\n",
    "tax= round((meal_cost*0.05),2)\n",
    "tip=round((meal_cost*0.18),2)\n",
    "grand_total=round((meal_cost+tax+tip),2)\n",
    "print(\"tax on meal= ${}\".format(tax))\n",
    "print(\"tip= ${}\".format(tip))\n",
    "print(\"Grand Total= ${}\".format(grand_total))\n"
   ]
  },
  {
   "cell_type": "markdown",
   "metadata": {},
   "source": [
    "# Exam 7: Sum of first n integers"
   ]
  },
  {
   "cell_type": "code",
   "execution_count": 7,
   "metadata": {},
   "outputs": [
    {
     "name": "stdout",
     "output_type": "stream",
     "text": [
      "enter a number n\n",
      "number9\n",
      "sum of first 9 positive integer= 45.0\n"
     ]
    }
   ],
   "source": [
    "print(\"enter a number n\")\n",
    "n=int(input(\"number\"))\n",
    "sum=n*(n+1)/2\n",
    "print(\"sum of first {} positive integer= {}\".format(n,sum))"
   ]
  },
  {
   "cell_type": "code",
   "execution_count": null,
   "metadata": {},
   "outputs": [],
   "source": []
  }
 ],
 "metadata": {
  "kernelspec": {
   "display_name": "Python 3",
   "language": "python",
   "name": "python3"
  },
  "language_info": {
   "codemirror_mode": {
    "name": "ipython",
    "version": 3
   },
   "file_extension": ".py",
   "mimetype": "text/x-python",
   "name": "python",
   "nbconvert_exporter": "python",
   "pygments_lexer": "ipython3",
   "version": "3.6.9"
  }
 },
 "nbformat": 4,
 "nbformat_minor": 2
}
