{
 "cells": [
  {
   "cell_type": "code",
   "execution_count": 1,
   "metadata": {},
   "outputs": [
    {
     "data": {
      "text/plain": [
       "'\\nQUESTION \\n----------------------\\nCreate a program that displays your name and complete mailing address \\nformatted in the manner that you would usually see it on the outside of an envelope. \\nYour program does not need to read any input from the user.\\n'"
      ]
     },
     "execution_count": 1,
     "metadata": {},
     "output_type": "execute_result"
    }
   ],
   "source": [
    "\"\"\"\n",
    "QUESTION \n",
    "----------------------\n",
    "Create a program that displays your name and complete mailing address \n",
    "formatted in the manner that you would usually see it on the outside of an envelope. \n",
    "Your program does not need to read any input from the user.\n",
    "\"\"\""
   ]
  },
  {
   "cell_type": "code",
   "execution_count": 2,
   "metadata": {},
   "outputs": [
    {
     "name": "stdout",
     "output_type": "stream",
     "text": [
      "Kenhinde Sobande\n",
      "Department of Systems Engineering\n",
      "University of Lagos\n",
      "Akoka, Yaba\n",
      "Lagos\n",
      "Nigeria\n"
     ]
    }
   ],
   "source": [
    "# \n",
    "# Display complete mailing address\n",
    "#\n",
    "print(\"Kenhinde Sobande\")\n",
    "print(\"Department of Systems Engineering\")\n",
    "print(\"University of Lagos\")\n",
    "print(\"Akoka, Yaba\")\n",
    "print(\"Lagos\")\n",
    "print(\"Nigeria\")"
   ]
  },
  {
   "cell_type": "code",
   "execution_count": null,
   "metadata": {},
   "outputs": [],
   "source": []
  }
 ],
 "metadata": {
  "kernelspec": {
   "display_name": "Python 3",
   "language": "python",
   "name": "python3"
  },
  "language_info": {
   "codemirror_mode": {
    "name": "ipython",
    "version": 3
   },
   "file_extension": ".py",
   "mimetype": "text/x-python",
   "name": "python",
   "nbconvert_exporter": "python",
   "pygments_lexer": "ipython3",
   "version": "3.8.1"
  }
 },
 "nbformat": 4,
 "nbformat_minor": 4
}
